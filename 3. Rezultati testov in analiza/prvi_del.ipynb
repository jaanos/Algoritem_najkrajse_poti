{
 "cells": [
  {
   "cell_type": "markdown",
   "metadata": {
    "collapsed": false
   },
   "source": [
    "Prvi del najinega projekta"
   ]
  },
  {
   "cell_type": "code",
   "execution_count": 24,
   "metadata": {
    "collapsed": false
   },
   "outputs": [
   ],
   "source": [
    "import random\n",
    "import sage.graphs.graph_plot\n",
    "from sage.graphs.base.boost_graph import *\n",
    "import numpy"
   ]
  },
  {
   "cell_type": "markdown",
   "metadata": {
    "collapsed": false
   },
   "source": [
    "Funkcija, ki nam vrne c-je kot seznam seznamov"
   ]
  },
  {
   "cell_type": "code",
   "execution_count": 25,
   "metadata": {
    "collapsed": false
   },
   "outputs": [
   ],
   "source": [
    "def seznam_cen(st_opazanj, st_pov_grafa, min_cena, max_cena):\n",
    "    sur_podatki = []\n",
    "    for i in range(0, st_opazanj):\n",
    "        mer_povezav = []\n",
    "        for j in range(0, st_pov_grafa):\n",
    "            mer_povezav.append(random.uniform(min_cena, max_cena))\n",
    "        sur_podatki.append(mer_povezav)\n",
    "    return(sur_podatki)\n",
    "\n",
    "#print(seznam_cen(5, 10, 0, 10))"
   ]
  },
  {
   "cell_type": "markdown",
   "metadata": {
    "collapsed": false
   },
   "source": [
    "Funkcija, ki nam zmnoži vektor z transponiranim vektorjem"
   ]
  },
  {
   "cell_type": "code",
   "execution_count": 26,
   "metadata": {
    "collapsed": false
   },
   "outputs": [
   ],
   "source": [
    "def mnoz(vektor1, vektor2):\n",
    "    matrika = []\n",
    "    for i in range(0,len(vektor1)):\n",
    "        vrstica =[]\n",
    "        for j in range(0, len(vektor2)):\n",
    "            vrstica.append(vektor1[i] * vektor2[j])\n",
    "        matrika.append(vrstica)\n",
    "    return(matrika)"
   ]
  },
  {
   "cell_type": "markdown",
   "metadata": {
    "collapsed": false
   },
   "source": [
    "Kovariancna matrika"
   ]
  },
  {
   "cell_type": "code",
   "execution_count": 28,
   "metadata": {
    "collapsed": false
   },
   "outputs": [
   ],
   "source": [
    "def kov_matrika(vse_utezi):\n",
    "    avr_pov = [i * 1/len(vse_utezi) for i in [sum(x) for x in zip(*vse_utezi)]]\n",
    "    zac_mat = numpy.matrix(mnoz(numpy.subtract(vse_utezi[0],avr_pov),numpy.subtract(vse_utezi[0],avr_pov)))\n",
    "    for i in range(1, len(vse_utezi)):\n",
    "        zac_mat += numpy.matrix(mnoz(numpy.subtract(vse_utezi[i],avr_pov),numpy.subtract(vse_utezi[i],avr_pov)))\n",
    "    kon_mat = 1/len(vse_utezi)*zac_mat\n",
    "    return(kon_mat)\n",
    "\n",
    "#diagonala:\n",
    "#numpy.diag(testna_kov_mat)\n"
   ]
  },
  {
   "cell_type": "markdown",
   "metadata": {
    "collapsed": false
   },
   "source": [
    "Generiramo sosednosti (vozlišča za graf)"
   ]
  },
  {
   "cell_type": "code",
   "execution_count": 29,
   "metadata": {
    "collapsed": false
   },
   "outputs": [
   ],
   "source": [
    "def nakljucno_vozlisce(st_vozlisc1):\n",
    "    start = random.randint(0, st_vozlisc1)\n",
    "    end = random.randint(0,st_vozlisc1)\n",
    "    if start == end:\n",
    "        return nakljucno_vozlisce(st_vozlisc1)\n",
    "    else:\n",
    "        return[start, end]\n",
    "\n",
    "#nakljucno_vozlisce(ggrafi[8])\n",
    "\n",
    "def vsa_vozlisca(koliko, st_pov1):\n",
    "    vozlisca = []\n",
    "    for i in range(0, st_pov1):\n",
    "        x = nakljucno_vozlisce(koliko)\n",
    "        while x in vozlisca:\n",
    "            x = nakljucno_vozlisce(koliko)\n",
    "        vozlisca.append(x)\n",
    "    return vozlisca"
   ]
  },
  {
   "cell_type": "markdown",
   "metadata": {
    "collapsed": false
   },
   "source": [
    "Generiramo naključen graf:"
   ]
  },
  {
   "cell_type": "code",
   "execution_count": 30,
   "metadata": {
    "collapsed": false
   },
   "outputs": [
   ],
   "source": [
    "def graf(st_opazanj, st_vozlisc, st_pov_grafa, min_cena, max_cena):\n",
    "    utezi2 = seznam_cen(st_opazanj, st_pov_grafa, min_cena, max_cena)\n",
    "    #graf_seznam = graphs.RandomGNM(st_vozlisc, st_pov_grafa).edges(labels=False)\n",
    "    graf_seznam =  vsa_vozlisca(st_vozlisc, st_pov_grafa)\n",
    "    nov = [] #najprej spremeniva v list\n",
    "    for i in range(0,len(graf_seznam)):\n",
    "        nov.append(list(graf_seznam[i]))\n",
    "    konec = [] #dodava še ceno, v obliki ki jo sprjema digraph\n",
    "    seznam_gra = []\n",
    "    for j in range(0,len(utezi2)):\n",
    "        zadnji = []\n",
    "        for i in range(0,len(nov)):\n",
    "            vmesni = []\n",
    "            vmesni.append(nov[i][0])\n",
    "            vmesni.append(nov[i][1])\n",
    "            vmesni.append(utezi2[j][i])\n",
    "            zadnji.append(tuple(vmesni))\n",
    "        konec.append(zadnji)\n",
    "        gr = DiGraph(zadnji)\n",
    "        seznam_gra.append(gr)\n",
    "    #seznam_gra[0].show(edge_labels = True)\n",
    "    return(seznam_gra, utezi2)\n",
    "\n",
    "#graf(5, 15, 150, 1, 5)[0][0].show(edge_labels = True)"
   ]
  },
  {
   "cell_type": "markdown",
   "metadata": {
    "collapsed": false
   },
   "source": [
    "Vektorji poti x"
   ]
  },
  {
   "cell_type": "code",
   "execution_count": 31,
   "metadata": {
    "collapsed": false
   },
   "outputs": [
   ],
   "source": [
    "def vektorcki_x(graf, zacetno, koncno):\n",
    "    vse_poti = graf.all_paths(zacetno, koncno, use_multiedges=True, report_edges=False, labels=False)\n",
    "    vse_povezave = graf.edges()\n",
    "    par = []\n",
    "    for i in range(0,len(vse_povezave)):\n",
    "        par.append(vse_povezave[i][0:2])\n",
    "    seznam_vektorjev = []\n",
    "    for i in range(0, len(vse_poti)):\n",
    "        pot = (vse_poti[i])\n",
    "        prvi_oklepaj1 = list(zip(pot, pot[1:] + pot[:1]))\n",
    "        prvi_oklepaj = prvi_oklepaj1[:-1]\n",
    "        x=[]\n",
    "        for i in range(0, len(par)):\n",
    "            if par[i] in prvi_oklepaj:\n",
    "                x.append(1)\n",
    "            else:\n",
    "                x.append(0)\n",
    "        seznam_vektorjev.append(x)\n",
    "    return(seznam_vektorjev)\n",
    "\n",
    "#x = ((graf(5, 5, 10, 1, 5))[0][0])\n",
    "#x.show()\n",
    "#vektorcki_x(x, 2, 4)"
   ]
  },
  {
   "cell_type": "markdown",
   "metadata": {
    "collapsed": false
   },
   "source": [
    "Izračunamo ceno določene poti"
   ]
  },
  {
   "cell_type": "code",
   "execution_count": 32,
   "metadata": {
    "collapsed": false
   },
   "outputs": [
   ],
   "source": [
    "def povprecje(cene1):\n",
    "    seznam_cen = list(cene1.values())\n",
    "    povprecne_cene = []\n",
    "    for i in range(0, len(seznam_cen)):\n",
    "        povprecne_cene.append(numpy.average(seznam_cen[i]))\n",
    "    return(povprecne_cene)\n",
    "\n",
    "\n",
    "def vektor_skalarni_produkt(cene1, start, end, graf):\n",
    "    cene_poti = {}\n",
    "    for i in range(0,len(cene1)):\n",
    "        x = vektorcki_x(graf[0], start, end)\n",
    "        vmesni = []\n",
    "        for j in range(0,len(x)):\n",
    "            vmesni.append(numpy.dot(cene[i], x[j]))\n",
    "        cene_poti[i] = vmesni\n",
    "    return\n",
    "\n",
    "\n"
   ]
  },
  {
   "cell_type": "markdown",
   "metadata": {
    "collapsed": false
   },
   "source": [
    "Celotna priprava vseh reči, ki jih potrebujemo neposredno za naivni algoritem"
   ]
  },
  {
   "cell_type": "code",
   "execution_count": 116,
   "metadata": {
    "collapsed": false
   },
   "outputs": [
    {
     "name": "stdout",
     "output_type": "stream",
     "text": [
      "[0, 0, 0, 0, 0, 0, 1, 0, 0, 0, 0, 0, 0, 0, 0]\n",
      "[0, 0, 0, 1, 1, 0, 0, 0, 0, 0, 0, 0, 0, 0, 0]\n"
     ]
    }
   ],
   "source": [
    "#prvo narediva vektorja xr in xl, za začetek najinega algoritma\n",
    "#graf(st_opazanj, st_vozlisc, st_pov_grafa, min_cena, max_cena)\n",
    "\n",
    "[seznam_gra, utezi] = graf(5, 4, 15, 0, 10)\n",
    "#velikost d in avr_pov ga ne moti\n",
    "d = numpy.diag(kov_matrika(utezi))\n",
    "avr_pov = [i * 1/len(utezi) for i in [sum(x) for x in zip(*utezi)]]\n",
    "E = 0.3\n",
    "\n",
    "x = vektorcki_x(seznam_gra[0], 1, 4)\n",
    "\n",
    "#VIDALIJEV PREDLOG ZA ARGLEXMIN\n",
    "def arglexmin(seznam_x, vektorji):\n",
    "    xmin = min(([numpy.dot(numpy.array(v), numpy.array(x)) for v in vektorji], x) for x in seznam_x)\n",
    "    return (xmin, xmin[0][0]+xmin[0][1])\n",
    "\n",
    "\n",
    "#[najmanjsi_xl, cenal] = arglexmin(x, [avr_pov, d])\n",
    "[najmanjsi_xl, cenal] = arglexmin(x, [numpy.dot((1-E), avr_pov), numpy.dot(E, d)])\n",
    "najmanjsi_xl_pravi = najmanjsi_xl[1]\n",
    "print(najmanjsi_xl_pravi)\n",
    "\n",
    "\n",
    "#[najmanjsi_xr, cenar] = arglexmin(x, [d, avr_pov])\n",
    "[najmanjsi_xr, cenar] = arglexmin(x, [numpy.dot((1-E), d),numpy.dot(E, avr_pov)])\n",
    "najmanjsi_xr_pravi = najmanjsi_xr[1]\n",
    "print(najmanjsi_xr_pravi)\n",
    "\n"
   ]
  },
  {
   "cell_type": "code",
   "execution_count": 105,
   "metadata": {
    "collapsed": false
   },
   "outputs": [
    {
     "name": "stdout",
     "output_type": "stream",
     "text": [
      "[0, 0, 1, 1, 0, 0, 0, 0, 0, 0, 0, 0, 0, 0, 0]\n",
      "[0, 0, 1, 1, 0, 0, 0, 0, 0, 0, 0, 0, 0, 0, 0]\n"
     ]
    }
   ],
   "source": [
    "#Prvotna funkcija, pred popravki asistent(je ne uporabljamo v nadaljevanju)\n",
    "\n",
    "def najmanjsi_x(seznam_x, vektor):\n",
    "    najmanjsi_x = seznam_x[0]\n",
    "    najmanjsi_skalarni_produkt = numpy.dot(vektor, numpy.array(seznam_x[0]))\n",
    "    for i in range(1,len(seznam_x)):\n",
    "        vrednost = numpy.dot(vektor, numpy.array(seznam_x[i]))\n",
    "        if vrednost < najmanjsi_skalarni_produkt:\n",
    "            najmanjsi_skalarni_produkt = vrednost\n",
    "            najmanjsi_x = seznam_x[i]\n",
    "    return(najmanjsi_x)\n",
    "\n",
    "najmanjsi_xl2 = najmanjsi_x(x, vektor_xl)\n",
    "najmanjsi_xr2 = najmanjsi_x(x, vektor_xr)\n",
    "print(najmanjsi_xl2)\n",
    "print(najmanjsi_xr2)\n",
    "\n",
    "\n",
    "#vektor_xl =  numpy.add(numpy.dot((1-E), numpy.array(avr_pov)), numpy.dot(E,numpy.array(d)))\n",
    "#print(vektor_xl)\n",
    "#xl= numpy.dot(vektor_xl, numpy.array(x[0])) #prvi vektor\n",
    "#print(xl)\n",
    "\n",
    "#vektor_xr = numpy.add(numpy.dot(E, numpy.array(avr_pov)), numpy.dot((1-E),numpy.array(d)))\n",
    "#xr= numpy.dot((vektor_xr), numpy.array(x[0]))\n",
    "#print(xr)\n"
   ]
  },
  {
   "cell_type": "code",
   "execution_count": 86,
   "metadata": {
    "collapsed": false
   },
   "outputs": [
    {
     "name": "stdout",
     "output_type": "stream",
     "text": [
      "10000\n"
     ]
    }
   ],
   "source": [
    "import sys\n",
    "sys.setrecursionlimit(10000)\n",
    "print(sys.getrecursionlimit())\n"
   ]
  },
  {
   "cell_type": "markdown",
   "metadata": {
    "collapsed": false
   },
   "source": [
    "Naivni algoritem"
   ]
  },
  {
   "cell_type": "code",
   "execution_count": 131,
   "metadata": {
    "collapsed": false,
    "scrolled": true
   },
   "outputs": [
    {
     "name": "stdout",
     "output_type": "stream",
     "text": [
      "Izboljšava ni najdena.\n",
      "[[0, 0, 0, 0, 0, 0, 1, 0, 0, 0, 0, 0, 0, 0, 0]]\n"
     ]
    }
   ],
   "source": [
    "uer3 = []\n",
    "def razisci3(x0, x1, pov, diag, poti):\n",
    "    if x0 == x1:\n",
    "        print(\"x0 in x1 sta enaka.\")\n",
    "    else:\n",
    "        alfa_m = numpy.dot(diag,numpy.subtract(x1,x0)) / numpy.dot(numpy.subtract(pov,diag),numpy.subtract(x0,x1))\n",
    "        vek_zv = numpy.add(numpy.dot(alfa_m, numpy.array(pov)), numpy.dot((1-alfa_m),numpy.array(diag)))\n",
    "        v_zv_alfa = numpy.dot(alfa_m, numpy.array(pov))\n",
    "        v_zv_ena_minus_alfa = numpy.dot((1-alfa_m),numpy.array(diag))\n",
    "        x_zv = arglexmin(poti, [v_zv_alfa, v_zv_ena_minus_alfa])[0][1]\n",
    "        #print(x_zv)\n",
    "        #print(numpy.dot(vek_zv, x_zv))\n",
    "        #print(numpy.dot(vek_zv, x0))\n",
    "        if numpy.dot(vek_zv, x_zv) < numpy.dot(vek_zv, x0):\n",
    "            print(\"Najdeno je bilo izboljšanje.\")\n",
    "            uer3.append(x_zv)\n",
    "            razisci(x0, x_zv, pov, diag, poti)\n",
    "            razisci(x_zv, x1, pov, diag, poti)\n",
    "        else:\n",
    "            print(\"Izboljšava ni najdena.\")\n",
    "            uer3.append(x0)\n",
    "    return(print(uer3))\n",
    "\n",
    "\n",
    "uc_res = razisci3(najmanjsi_xl_pravi, najmanjsi_xr_pravi, avr_pov, d, x)\n"
   ]
  },
  {
   "cell_type": "code",
   "execution_count": 0,
   "metadata": {
    "collapsed": false
   },
   "outputs": [
   ],
   "source": [
   ]
  }
 ],
 "metadata": {
  "kernelspec": {
   "display_name": "SageMath 9.2",
   "language": "sagemath",
   "metadata": {
    "cocalc": {
     "description": "Open-source mathematical software system",
     "priority": 10,
     "url": "https://www.sagemath.org/"
    }
   },
   "name": "sage-9.2"
  },
  "language_info": {
   "codemirror_mode": {
    "name": "ipython",
    "version": 3
   },
   "file_extension": ".py",
   "mimetype": "text/x-python",
   "name": "python",
   "nbconvert_exporter": "python",
   "pygments_lexer": "ipython3",
   "version": "3.8.5"
  }
 },
 "nbformat": 4,
 "nbformat_minor": 4
}